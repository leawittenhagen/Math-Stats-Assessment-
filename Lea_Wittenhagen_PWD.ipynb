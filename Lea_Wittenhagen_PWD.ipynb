{
 "cells": [
  {
   "cell_type": "code",
   "execution_count": 17,
   "id": "2d557755-ae3a-4ccb-8411-46f497238a5a",
   "metadata": {
    "tags": []
   },
   "outputs": [],
   "source": [
    "import pandas as pd\n",
    "import numpy as np\n",
    "import matplotlib.pyplot as plt\n",
    "from scipy import stats\n",
    "from scipy.stats import f_oneway\n",
    "from statsmodels.stats.multicomp import pairwise_tukeyhsd"
   ]
  },
  {
   "cell_type": "markdown",
   "id": "04a8f856-48f0-413a-a82d-695379e4a3b0",
   "metadata": {},
   "source": [
    "# THE BUSINESS CASE\n",
    "\n",
    "Let's imagine, a fashion company sends out a software company send out a weekly email newsletter. Until now they send out the email newsletter during the week in the evening because they think that some individuals prefer to check their emails after the have finished work or during their leisure time. They think people are more relaxed and actually habe more time to look at the content.  \n",
    "\n",
    "A new employee questions if evenings on weekdays are really the best time to send out those email because people might be to tired from their stressfull day.\n",
    "\n",
    "The data analytics team sets up a test to identify the best time to send out the weekly newSletter emails.\n",
    "\n",
    "In addition to the already mentioned timeframe **Weekdays, Evening (6:00 PM - 8:00 PM)** the team identifies 4 more timeframes that should be compared with the control timeframe: \n",
    "\n",
    "**Morning (8:00 AM - 10:00 AM):**\n",
    "Many people check their emails first thing in the morning to start their day or when they arrive at work. Sending emails during this time may capture their attention as they review their inbox However most mornings tend to be stressfull and people might not have the time to click through the email or even purchase something. \n",
    "\n",
    "**Midday (11:00 AM - 1:00 PM):**\n",
    "Lunch breaks are another opportune time for people to check their emails. Sending emails around midday can catch recipients during their breaks or downtime. \n",
    "\n",
    "**Afternoon (2:00 PM - 4:00 PM):**\n",
    "Sending emails in the early to mid-afternoon can be effective as people may be looking for distractions or catching up on tasks before the end of the workday.\n",
    "\n",
    "**Weekend:**\n",
    "Weekends are also prime times for checking emails, especially during the mornings when people have more free time and are less rushed.  "
   ]
  },
  {
   "cell_type": "markdown",
   "id": "9413a06a-227d-4f4d-a928-c13ec885ac66",
   "metadata": {},
   "source": [
    "#### THE METRICS\n",
    "\n",
    "Conversion rates can vary significantly depending on factors like the brand itself, the attractiveness of products and the overall user experience of the website. These conversion rate estimates are fictional and provided to give a general idea of how the rates might vary throughout the day and over the weekend for a software company. \n",
    "\n",
    "For our analysis we will receive data about the following two metrics: \n",
    "\n",
    "- open rate: how many people actually open the email\n",
    "- click-through rate: how many people click on the link provided in the email\n",
    "\n",
    "To test the effectiveness of the emails sent out, we want to focus on the click-through rates as our primary metric, but we will test the opening rate as our secondary metric as well. \n",
    "\n",
    "*The rates below are made up and serve the simulation of the case."
   ]
  },
  {
   "cell_type": "code",
   "execution_count": 60,
   "id": "8ba33138-1261-44c4-97a6-2194cfc3980c",
   "metadata": {
    "tags": []
   },
   "outputs": [
    {
     "data": {
      "text/html": [
       "<div>\n",
       "<style scoped>\n",
       "    .dataframe tbody tr th:only-of-type {\n",
       "        vertical-align: middle;\n",
       "    }\n",
       "\n",
       "    .dataframe tbody tr th {\n",
       "        vertical-align: top;\n",
       "    }\n",
       "\n",
       "    .dataframe thead th {\n",
       "        text-align: right;\n",
       "    }\n",
       "</style>\n",
       "<table border=\"1\" class=\"dataframe\">\n",
       "  <thead>\n",
       "    <tr style=\"text-align: right;\">\n",
       "      <th></th>\n",
       "      <th>Time</th>\n",
       "      <th>Open Rate (%)</th>\n",
       "      <th>Click-through Rate (%)</th>\n",
       "    </tr>\n",
       "  </thead>\n",
       "  <tbody>\n",
       "    <tr>\n",
       "      <th>0</th>\n",
       "      <td>Morning</td>\n",
       "      <td>21</td>\n",
       "      <td>2.5</td>\n",
       "    </tr>\n",
       "    <tr>\n",
       "      <th>1</th>\n",
       "      <td>Midday</td>\n",
       "      <td>20</td>\n",
       "      <td>3.0</td>\n",
       "    </tr>\n",
       "    <tr>\n",
       "      <th>2</th>\n",
       "      <td>Afternoon</td>\n",
       "      <td>20</td>\n",
       "      <td>3.5</td>\n",
       "    </tr>\n",
       "    <tr>\n",
       "      <th>3</th>\n",
       "      <td>Evening</td>\n",
       "      <td>22</td>\n",
       "      <td>3.5</td>\n",
       "    </tr>\n",
       "    <tr>\n",
       "      <th>4</th>\n",
       "      <td>Weekend</td>\n",
       "      <td>21</td>\n",
       "      <td>4.0</td>\n",
       "    </tr>\n",
       "  </tbody>\n",
       "</table>\n",
       "</div>"
      ],
      "text/plain": [
       "        Time  Open Rate (%)  Click-through Rate (%)\n",
       "0    Morning             21                     2.5\n",
       "1     Midday             20                     3.0\n",
       "2  Afternoon             20                     3.5\n",
       "3    Evening             22                     3.5\n",
       "4    Weekend             21                     4.0"
      ]
     },
     "execution_count": 60,
     "metadata": {},
     "output_type": "execute_result"
    }
   ],
   "source": [
    "metrics_values = {\n",
    "    'Time': ['Morning', 'Midday', 'Afternoon',\n",
    "             'Evening', 'Weekend'],\n",
    "    'Open Rate (%)': [21, 20, 20, 22, 21],\n",
    "    'Click-through Rate (%)': [2.5, 3, 3.5, 3.5, 4]\n",
    "}\n",
    "\n",
    "metrics = pd.DataFrame(metrics_values)\n",
    "metrics"
   ]
  },
  {
   "cell_type": "markdown",
   "id": "0878373c-ce56-4194-987d-b23f79f441bb",
   "metadata": {},
   "source": [
    "#### POPULATION SIMULATION\n",
    "\n",
    "With the rates in the dataframe above we simulate 5 populations, one for each defined timeframe. \n",
    "\n",
    "*The data is created artificially to simulate the case."
   ]
  },
  {
   "cell_type": "code",
   "execution_count": 55,
   "id": "e637c7e9-0073-4f9b-a1c1-a7fb36cfb429",
   "metadata": {
    "tags": []
   },
   "outputs": [],
   "source": [
    "np.random.seed(1)\n",
    "\n",
    "population_size = 10000\n",
    "\n",
    "weekday_morning = {\n",
    "    'Open': np.random.choice([0, 1], size=population_size, p=[1-0.21, 0.21]),\n",
    "    'Clicked': np.random.choice([0, 1], size=population_size, p=[1-0.025, 0.025])\n",
    "}\n",
    "pop_weekday_morning = pd.DataFrame(weekday_morning)\n",
    "\n",
    "weekday_midday = {\n",
    "    'Open': np.random.choice([0, 1], size=population_size, p=[1-0.2, 0.2]),\n",
    "    'Clicked': np.random.choice([0, 1], size=population_size, p=[1-0.03, 0.03])\n",
    "}\n",
    "pop_weekday_midday = pd.DataFrame(weekday_midday)\n",
    "\n",
    "weekday_afternoon = {\n",
    "    'Open': np.random.choice([0, 1], size=population_size, p=[1-0.20, 0.20]),\n",
    "    'Clicked': np.random.choice([0, 1], size=population_size, p=[1-0.035, 0.035])\n",
    "}\n",
    "pop_weekday_afternoon = pd.DataFrame(weekday_afternoon)\n",
    "\n",
    "weekday_evening = {\n",
    "    'Open': np.random.choice([0, 1], size=population_size, p=[1-0.22, 0.22]),\n",
    "    'Clicked': np.random.choice([0, 1], size=population_size, p=[1-0.035, 0.035])\n",
    "}\n",
    "pop_weekday_evening = pd.DataFrame(weekday_evening)\n",
    "\n",
    "weekend_morning = {\n",
    "    'Open': np.random.choice([0, 1], size=population_size, p=[1-0.21, 0.21]),\n",
    "    'Clicked': np.random.choice([0, 1], size=population_size, p=[1-0.04, 0.04])\n",
    "}\n",
    "pop_weekend_morning = pd.DataFrame(weekend_morning)"
   ]
  },
  {
   "cell_type": "markdown",
   "id": "57861047-311c-4db9-9e83-332574afe272",
   "metadata": {},
   "source": [
    "#### SAMPLING\n",
    "\n",
    "The company opts to experiment with various times for sending out their email newsletters. They divide their subscribers into groups of **2000 (randomly assigned)** and dispatch the newsletters during different timeframes. To amass more data, they conduct the same test over 10 consecutive weeks, with fresh groups allocated each week."
   ]
  },
  {
   "cell_type": "markdown",
   "id": "6a379e60-72cc-4bd9-99fa-5df41d9c3f46",
   "metadata": {},
   "source": [
    "#### Primary Metric: Click-Through Rate"
   ]
  },
  {
   "cell_type": "code",
   "execution_count": 62,
   "id": "c35ff4e1-a0a5-47da-b998-b0c5dc3da66c",
   "metadata": {
    "tags": []
   },
   "outputs": [
    {
     "name": "stdout",
     "output_type": "stream",
     "text": [
      "         Morning  Midday  Afternoon  Evening  Weekend\n",
      "Week                                                 \n",
      "Week 1        47      66         67       61       89\n",
      "Week 2        53      66         85       76       75\n",
      "Week 3        50      48         79       85       68\n",
      "Week 4        51      55         64       85       79\n",
      "Week 5        39      55         72       66       88\n",
      "Week 6        47      50         77       60       77\n",
      "Week 7        47      62         62       89       79\n",
      "Week 8        54      65         65       72       84\n",
      "Week 9        46      63         61       78       80\n",
      "Week 10       41      57         63       86       80\n"
     ]
    }
   ],
   "source": [
    "sample_size = 2000\n",
    "num_repetitions = 10\n",
    "\n",
    "results = {'Morning': [], 'Midday': [], 'Afternoon': [], 'Evening': [], 'Weekend': []}\n",
    "\n",
    "for i in range(num_repetitions):\n",
    "    np.random.seed(123 + i)\n",
    "    \n",
    "    sample_morning = pop_weekday_morning.sample(n=sample_size)\n",
    "    results['Morning'].append(sample_morning['Clicked'].sum())\n",
    "    \n",
    "    sample_midday = pop_weekday_midday.sample(n=sample_size)\n",
    "    results['Midday'].append(sample_midday['Clicked'].sum())\n",
    "    \n",
    "    sample_afternoon = pop_weekday_afternoon.sample(n=sample_size)\n",
    "    results['Afternoon'].append(sample_afternoon['Clicked'].sum())\n",
    "    \n",
    "    sample_evening = pop_weekday_evening.sample(n=sample_size)\n",
    "    results['Evening'].append(sample_evening['Clicked'].sum())\n",
    "\n",
    "    sample_weekend = pop_weekend_morning.sample(n=sample_size)\n",
    "    results['Weekend'].append(sample_weekend['Clicked'].sum())\n",
    "\n",
    "results_ct = pd.DataFrame(results)\n",
    "results_ct['Week'] = [f'Week {i+1}' for i in range(num_repetitions)]\n",
    "results_ct.set_index('Week', inplace=True)\n",
    "\n",
    "print(results_ct)"
   ]
  },
  {
   "cell_type": "code",
   "execution_count": 91,
   "id": "c4d57bd2-bfdb-4380-ac2f-26649114ed58",
   "metadata": {},
   "outputs": [
    {
     "data": {
      "image/png": "[encoded data removed]",
      "text/plain": [
       "<Figure size 2000x400 with 5 Axes>"
      ]
     },
     "metadata": {},
     "output_type": "display_data"
    }
   ],
   "source": [
    "fig, axes = plt.subplots(nrows=1, ncols=5, figsize=(20, 4), sharey=True)\n",
    "\n",
    "for i, column in enumerate(results_ct.columns):\n",
    "    ax = axes[i]\n",
    "    ax.boxplot(results_ct[column], patch_artist=True, boxprops=dict(facecolor='blue', color='blue'))\n",
    "    ax.set_title(column)\n",
    "    ax.set_ylabel('Click-through Count')\n",
    "\n",
    "fig.text(0.06, 0.5, 'Click-through Count', ha='center', va='center', rotation='vertical')\n",
    "\n",
    "plt.tight_layout()\n",
    "plt.show()"
   ]
  },
  {
   "cell_type": "markdown",
   "id": "dc01ef3d-1a25-4a5a-b4dd-9845be410639",
   "metadata": {
    "tags": []
   },
   "source": [
    "#### One-Way ANOVA Test for Primary Metric\n",
    "\n",
    "Using the one-way ANOVA test I want to determine if there are statistically significant differences in the mean click-through rates among the different timeframes."
   ]
  },
  {
   "cell_type": "code",
   "execution_count": 64,
   "id": "b88abace-9466-4cd1-8f9b-e9c47807da35",
   "metadata": {
    "tags": []
   },
   "outputs": [
    {
     "name": "stdout",
     "output_type": "stream",
     "text": [
      "F statistic: 30.171273483215284\n",
      "p-value: 3.1891801151063637e-12\n"
     ]
    }
   ],
   "source": [
    "f_statistic, p_value = f_oneway(results_ct[\"Morning\"], results_ct[\"Midday\"], results_ct[\"Afternoon\"], results_ct[\"Evening\"], results_ct[\"Weekend\"])\n",
    "\n",
    "print(\"F statistic:\", f_statistic)\n",
    "print(\"p-value:\", p_value)"
   ]
  },
  {
   "cell_type": "markdown",
   "id": "22f5647e-ef05-46ec-8f16-355e1cb4e738",
   "metadata": {},
   "source": [
    "##### Tukey HSD Test for Primary Metric (Click-Through)\n",
    "\n",
    "To determine which specific sending times differ significantly, we use the Tukey HSD test."
   ]
  },
  {
   "cell_type": "code",
   "execution_count": 69,
   "id": "7c3f2c14-8c85-4cc0-869f-abc64271ef82",
   "metadata": {
    "tags": []
   },
   "outputs": [
    {
     "name": "stdout",
     "output_type": "stream",
     "text": [
      "   Multiple Comparison of Means - Tukey HSD, FWER=0.05    \n",
      "==========================================================\n",
      "  group1   group2 meandiff p-adj   lower    upper   reject\n",
      "----------------------------------------------------------\n",
      "Afternoon Evening      6.3 0.3564  -3.3546  15.9546  False\n",
      "Afternoon  Midday    -10.8 0.0214 -20.4546  -1.1454   True\n",
      "Afternoon Morning    -22.0    0.0 -31.6546 -12.3454   True\n",
      "Afternoon Weekend     10.4  0.029   0.7454  20.0546   True\n",
      "  Evening  Midday    -17.1 0.0001 -26.7546  -7.4454   True\n",
      "  Evening Morning    -28.3    0.0 -37.9546 -18.6454   True\n",
      "  Evening Weekend      4.1 0.7475  -5.5546  13.7546  False\n",
      "   Midday Morning    -11.2 0.0156 -20.8546  -1.5454   True\n",
      "   Midday Weekend     21.2    0.0  11.5454  30.8546   True\n",
      "  Morning Weekend     32.4    0.0  22.7454  42.0546   True\n",
      "----------------------------------------------------------\n"
     ]
    }
   ],
   "source": [
    "data_ct = pd.melt(results_ct, value_vars=[\"Morning\", \"Midday\", \"Afternoon\", \"Evening\", \"Weekend\"])\n",
    "data_ct.columns = ['sending_time', 'click_through_rate']\n",
    "\n",
    "tukey = pairwise_tukeyhsd(endog=data_ct['click_through_rate'], groups=data_ct['sending_time'], alpha=0.05)\n",
    "print(tukey)"
   ]
  },
  {
   "cell_type": "markdown",
   "id": "72c9f6a1-70fc-4301-979d-baeea834ca33",
   "metadata": {
    "tags": []
   },
   "source": [
    "##### Interpretation Tukey HSD Test (Click-Through)\n",
    "\n",
    "From the plot as well as the Tukey HSD Test we can conclude that neither **Morning** nor **Midday** are strong options since they have significantly lower mean click-through rates. Therefore we will focus on Afternoon, Evening and Weekend.\n",
    "\n",
    "**Evening vs. Afternoon** The mean click-through rate for Afternoon is lower than for Evening, however the p-value states that the difference is too small to show a statistically significant difference. We fail to reject the null hypothesis.\n",
    "\n",
    "**Evening vs. Weekend** The mean click-through rate for Weekend is higher than for Evening, however the p-value tstates that the difference is too small to show a statistically significant difference. We fail to reject the null hypothesis. \n",
    "\n",
    "**Afternoon vs. Weekend** The mean click-through rate for Weekend is significantly higher than for Afternoon. This indicated that Weekend has a significantly higher mean click-through rate compared to Afternoon. \n",
    "\n",
    "While Evening has a higher mean than Afternoon, we fail to see any statistical significance in the difference of the means. Looking at the mean for Weekend however, we can indeed see a statistical significance in comparison with Afternoon, so the company might consider sending out emails on the Weekend rather than in the Afternoon.\n",
    "As seen above Weekend also has a higher mean than Evening, however it is not statistically significant, meaning that we cannot draw a clear conclusion regarding the outcome. \n",
    "\n",
    "The test shows that Morning, Midday and Afternoon have lower click-through means and can be excluded from further testing. However the test in inconclusive in regards to whether emails should be sent out in the Evening or during the Weekend and we may not have enough evidence to implement changes. Therefore I would recommend further tests, in this case a more detailled AB test with only these two variants.  \n"
   ]
  },
  {
   "cell_type": "markdown",
   "id": "43b2e5ff-f6ce-4cfd-9d20-ae66d3530c8e",
   "metadata": {
    "tags": []
   },
   "source": [
    "#### Secondary Metric: Opening Rate"
   ]
  },
  {
   "cell_type": "code",
   "execution_count": 66,
   "id": "e2779fbb-7d4d-4a68-bd12-adc61bde9235",
   "metadata": {},
   "outputs": [
    {
     "name": "stdout",
     "output_type": "stream",
     "text": [
      "         Morning  Midday  Afternoon  Evening  Weekend\n",
      "Week                                                 \n",
      "Week 1       397     398        404      470      373\n",
      "Week 2       397     402        427      465      435\n",
      "Week 3       413     409        411      445      390\n",
      "Week 4       416     410        415      451      396\n",
      "Week 5       399     395        396      428      419\n",
      "Week 6       435     395        383      482      397\n",
      "Week 7       414     409        393      460      413\n",
      "Week 8       432     405        397      479      419\n",
      "Week 9       403     406        378      435      441\n",
      "Week 10      437     364        396      433      401\n"
     ]
    }
   ],
   "source": [
    "sample_size = 2000\n",
    "num_repetitions = 10\n",
    "\n",
    "results = {'Morning': [], 'Midday': [], 'Afternoon': [], 'Evening': [], 'Weekend': []}\n",
    "\n",
    "for i in range(num_repetitions):\n",
    "    np.random.seed(123 + i)\n",
    "    \n",
    "    sample_morning = pop_weekday_morning.sample(n=sample_size)\n",
    "    results['Morning'].append(sample_morning['Open'].sum())\n",
    "    \n",
    "    sample_midday = pop_weekday_midday.sample(n=sample_size)\n",
    "    results['Midday'].append(sample_midday['Open'].sum())\n",
    "    \n",
    "    sample_afternoon = pop_weekday_afternoon.sample(n=sample_size)\n",
    "    results['Afternoon'].append(sample_afternoon['Open'].sum())\n",
    "    \n",
    "    sample_evening = pop_weekday_evening.sample(n=sample_size)\n",
    "    results['Evening'].append(sample_evening['Open'].sum())\n",
    "\n",
    "    sample_weekend = pop_weekend_morning.sample(n=sample_size)\n",
    "    results['Weekend'].append(sample_weekend['Open'].sum())\n",
    "\n",
    "results_o = pd.DataFrame(results)\n",
    "results_o['Week'] = [f'Week {i+1}' for i in range(num_repetitions)]\n",
    "results_o.set_index('Week', inplace=True)\n",
    "\n",
    "print(results_o)"
   ]
  },
  {
   "cell_type": "code",
   "execution_count": 92,
   "id": "ae80d77c-e31f-4925-8a2b-468c6beb4cc3",
   "metadata": {
    "tags": []
   },
   "outputs": [
    {
     "data": {
      "image/png": "[encoded data removed]",
      "text/plain": [
       "<Figure size 2000x400 with 5 Axes>"
      ]
     },
     "metadata": {},
     "output_type": "display_data"
    }
   ],
   "source": [
    "fig, axes = plt.subplots(nrows=1, ncols=5, figsize=(20, 4), sharey=True)\n",
    "\n",
    "for i, column in enumerate(results_o.columns):\n",
    "    ax = axes[i]\n",
    "    ax.boxplot(results_o[column], patch_artist=True, boxprops=dict(facecolor='blue', color='blue'))\n",
    "    ax.set_title(column)\n",
    "    ax.set_ylabel('Opening Rate')\n",
    "\n",
    "fig.text(0.06, 0.5, 'Opening Rate', ha='center', va='center', rotation='vertical')\n",
    "\n",
    "plt.tight_layout()\n",
    "plt.show()"
   ]
  },
  {
   "cell_type": "markdown",
   "id": "30e75a38-3f7c-44ca-9d6e-3a0134cd6dba",
   "metadata": {},
   "source": [
    "##### One-Way ANOVA Test for Secondary Metric (Opening Rate)\n",
    "Using the one-way ANOVA test I want to determine if there are statistically significant differences in the mean click-through rates among the different timeframes."
   ]
  },
  {
   "cell_type": "code",
   "execution_count": 67,
   "id": "3a57ac39-c8f6-4760-9a1a-7c4e4624c48f",
   "metadata": {
    "tags": []
   },
   "outputs": [
    {
     "name": "stdout",
     "output_type": "stream",
     "text": [
      "F statistic: 17.91821720720583\n",
      "p-value: 7.267129796831208e-09\n"
     ]
    }
   ],
   "source": [
    "f_statistic, p_value = f_oneway(results_o[\"Morning\"], results_o[\"Midday\"], results_o[\"Afternoon\"], results_o[\"Evening\"], results_o[\"Weekend\"])\n",
    "\n",
    "print(\"F statistic:\", f_statistic)\n",
    "print(\"p-value:\", p_value)"
   ]
  },
  {
   "cell_type": "markdown",
   "id": "7ee0fc4f-e738-4dac-8f5b-7d33fead64a8",
   "metadata": {},
   "source": [
    "##### Tukey HSD Test for Primary Metric (Opening Rate)\n",
    "To determine which specific sending times differ significantly, we use the Tukey HSD test."
   ]
  },
  {
   "cell_type": "code",
   "execution_count": 70,
   "id": "67c2a2c9-e9a5-4493-a4f7-fa585be39727",
   "metadata": {
    "tags": []
   },
   "outputs": [
    {
     "name": "stdout",
     "output_type": "stream",
     "text": [
      "   Multiple Comparison of Means - Tukey HSD, FWER=0.05    \n",
      "==========================================================\n",
      "  group1   group2 meandiff p-adj   lower    upper   reject\n",
      "----------------------------------------------------------\n",
      "Afternoon Evening     54.8    0.0  33.0541  76.5459   True\n",
      "Afternoon  Midday     -0.7    1.0 -22.4459  21.0459  False\n",
      "Afternoon Morning     14.3 0.3487  -7.4459  36.0459  False\n",
      "Afternoon Weekend      8.4 0.8068 -13.3459  30.1459  False\n",
      "  Evening  Midday    -55.5    0.0 -77.2459 -33.7541   True\n",
      "  Evening Morning    -40.5    0.0 -62.2459 -18.7541   True\n",
      "  Evening Weekend    -46.4    0.0 -68.1459 -24.6541   True\n",
      "   Midday Morning     15.0 0.3019  -6.7459  36.7459  False\n",
      "   Midday Weekend      9.1 0.7575 -12.6459  30.8459  False\n",
      "  Morning Weekend     -5.9 0.9376 -27.6459  15.8459  False\n",
      "----------------------------------------------------------\n"
     ]
    }
   ],
   "source": [
    "data_o = pd.melt(results_o, value_vars=[\"Morning\", \"Midday\", \"Afternoon\", \"Evening\", \"Weekend\"])\n",
    "data_o.columns = ['sending_time', 'click_through_rate']\n",
    "\n",
    "tukey = pairwise_tukeyhsd(endog=data_o['click_through_rate'], groups=data_o['sending_time'], alpha=0.05)\n",
    "print(tukey)"
   ]
  },
  {
   "cell_type": "markdown",
   "id": "71027593-0f61-485a-8304-ecb80072d634",
   "metadata": {},
   "source": [
    "##### Interpretation Tukey HSD Test (Opening Rate)\n",
    "\n",
    "From the plots we can already see that **Evening** has a much higher mean opening rate than all other timeframes. \n",
    "\n",
    "Looking at the results from the Tukey HSD Test we can also see that the difference between the mean for **Evening** compared to all other timeframes is statistically significantly higher, while we fail to reject the null hypothesis comparing all other timeframes with each other. \n",
    "\n",
    "Based on the results of the secondary metric, the company should keep sending out the email newsletters in the **Evening during the week**.\n"
   ]
  },
  {
   "cell_type": "markdown",
   "id": "96c2c3ff-96ff-4419-b634-be021e758e76",
   "metadata": {},
   "source": []
  }
 ],
 "metadata": {
  "kernelspec": {
   "display_name": "Python 3 (ipykernel)",
   "language": "python",
   "name": "python3"
  },
  "language_info": {
   "codemirror_mode": {
    "name": "ipython",
    "version": 3
   },
   "file_extension": ".py",
   "mimetype": "text/x-python",
   "name": "python",
   "nbconvert_exporter": "python",
   "pygments_lexer": "ipython3",
   "version": "3.11.5"
  }
 },
 "nbformat": 4,
 "nbformat_minor": 5
}
