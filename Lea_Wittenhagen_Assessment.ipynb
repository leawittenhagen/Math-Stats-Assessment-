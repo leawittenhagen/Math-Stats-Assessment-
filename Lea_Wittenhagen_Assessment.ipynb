{
 "cells": [
  {
   "cell_type": "markdown",
   "id": "c92de4a1-8227-4525-9182-269e9340c967",
   "metadata": {},
   "source": [
    "# Assessment Lea Wittenhagen"
   ]
  },
  {
   "cell_type": "code",
   "execution_count": 2,
   "id": "a1930a87-8b7f-43ba-b230-b3eb0c72db35",
   "metadata": {
    "tags": []
   },
   "outputs": [],
   "source": [
    "import numpy as np\n",
    "import pandas as pd\n",
    "import matplotlib.pyplot as plt\n",
    "import seaborn as sns\n",
    "from scipy import stats\n",
    "from scipy.stats import binom"
   ]
  },
  {
   "cell_type": "markdown",
   "id": "12c39cdb-cdd9-47d6-a9ed-38fd395f22b8",
   "metadata": {},
   "source": [
    "## The Case\n",
    "\n",
    "A cooking website sells cooking equipment. They want to improve their product page. The product page has a rail with media (images or videos). Up until now, they have had a horizontal rail, a UX designer suggested having a vertical one. As a data analyst in the company, you suggested doing an AB test. You now have the results of the test and need to advise the company on whether they should ship the feature (vertical media rail) or not."
   ]
  },
  {
   "cell_type": "code",
   "execution_count": 3,
   "id": "4b175b37-6839-468a-800f-701a0f0747a0",
   "metadata": {
    "tags": []
   },
   "outputs": [
    {
     "data": {
      "text/html": [
       "<div>\n",
       "<style scoped>\n",
       "    .dataframe tbody tr th:only-of-type {\n",
       "        vertical-align: middle;\n",
       "    }\n",
       "\n",
       "    .dataframe tbody tr th {\n",
       "        vertical-align: top;\n",
       "    }\n",
       "\n",
       "    .dataframe thead th {\n",
       "        text-align: right;\n",
       "    }\n",
       "</style>\n",
       "<table border=\"1\" class=\"dataframe\">\n",
       "  <thead>\n",
       "    <tr style=\"text-align: right;\">\n",
       "      <th></th>\n",
       "      <th>Variant</th>\n",
       "      <th>Number of page views</th>\n",
       "      <th>GMV (in $)</th>\n",
       "      <th>Number of add to cart</th>\n",
       "      <th>Clicks on media</th>\n",
       "      <th>Time on Page (sec)</th>\n",
       "      <th>user_id</th>\n",
       "    </tr>\n",
       "  </thead>\n",
       "  <tbody>\n",
       "    <tr>\n",
       "      <th>0</th>\n",
       "      <td>A</td>\n",
       "      <td>5</td>\n",
       "      <td>0.0</td>\n",
       "      <td>0</td>\n",
       "      <td>2</td>\n",
       "      <td>74</td>\n",
       "      <td>0</td>\n",
       "    </tr>\n",
       "    <tr>\n",
       "      <th>1</th>\n",
       "      <td>A</td>\n",
       "      <td>4</td>\n",
       "      <td>0.0</td>\n",
       "      <td>4</td>\n",
       "      <td>1</td>\n",
       "      <td>21</td>\n",
       "      <td>1</td>\n",
       "    </tr>\n",
       "    <tr>\n",
       "      <th>2</th>\n",
       "      <td>A</td>\n",
       "      <td>4</td>\n",
       "      <td>0.0</td>\n",
       "      <td>2</td>\n",
       "      <td>0</td>\n",
       "      <td>1</td>\n",
       "      <td>2</td>\n",
       "    </tr>\n",
       "    <tr>\n",
       "      <th>3</th>\n",
       "      <td>A</td>\n",
       "      <td>5</td>\n",
       "      <td>0.0</td>\n",
       "      <td>0</td>\n",
       "      <td>1</td>\n",
       "      <td>26</td>\n",
       "      <td>3</td>\n",
       "    </tr>\n",
       "    <tr>\n",
       "      <th>4</th>\n",
       "      <td>A</td>\n",
       "      <td>5</td>\n",
       "      <td>0.0</td>\n",
       "      <td>3</td>\n",
       "      <td>3</td>\n",
       "      <td>46</td>\n",
       "      <td>4</td>\n",
       "    </tr>\n",
       "  </tbody>\n",
       "</table>\n",
       "</div>"
      ],
      "text/plain": [
       "  Variant  Number of page views  GMV (in $)  Number of add to cart  \\\n",
       "0       A                     5         0.0                      0   \n",
       "1       A                     4         0.0                      4   \n",
       "2       A                     4         0.0                      2   \n",
       "3       A                     5         0.0                      0   \n",
       "4       A                     5         0.0                      3   \n",
       "\n",
       "   Clicks on media  Time on Page (sec)  user_id  \n",
       "0                2                  74        0  \n",
       "1                1                  21        1  \n",
       "2                0                   1        2  \n",
       "3                1                  26        3  \n",
       "4                3                  46        4  "
      ]
     },
     "execution_count": 3,
     "metadata": {},
     "output_type": "execute_result"
    }
   ],
   "source": [
    "data = pd.read_csv('assessment_da25.csv')\n",
    "data.head(5)"
   ]
  },
  {
   "cell_type": "markdown",
   "id": "f6c16ef4-8c6b-4000-9e7f-ba7acc67a099",
   "metadata": {},
   "source": [
    "#### Splitting Dataframe into Variant A DF and Variant B DF"
   ]
  },
  {
   "cell_type": "code",
   "execution_count": 4,
   "id": "058c3747-06d6-4286-8169-479f95a0b98e",
   "metadata": {
    "tags": []
   },
   "outputs": [],
   "source": [
    "variant_A = data[data[\"Variant\"] == \"A\"]\n",
    "variant_B = data[data[\"Variant\"] == \"B\"]"
   ]
  },
  {
   "cell_type": "markdown",
   "id": "3e2dde8e-5eb1-43c8-932e-c833531d05e1",
   "metadata": {
    "tags": []
   },
   "source": [
    "#### Primary Metric: Conversion Rate\n",
    "\n",
    "H0: There is no significant difference in conversion rates between the current horizontal media rail and the proposed vertical     \n",
    "    media rail on the product page. \n",
    "    \n",
    "H1: The vertical media rail on the product page leads to a significant increase/decrease in conversion rates compared to the \n",
    "    horizontal media rail."
   ]
  },
  {
   "cell_type": "code",
   "execution_count": 11,
   "id": "17cba7e1-d45d-465a-863f-561723930776",
   "metadata": {
    "tags": []
   },
   "outputs": [
    {
     "data": {
      "text/html": [
       "<div>\n",
       "<style scoped>\n",
       "    .dataframe tbody tr th:only-of-type {\n",
       "        vertical-align: middle;\n",
       "    }\n",
       "\n",
       "    .dataframe tbody tr th {\n",
       "        vertical-align: top;\n",
       "    }\n",
       "\n",
       "    .dataframe thead th {\n",
       "        text-align: right;\n",
       "    }\n",
       "</style>\n",
       "<table border=\"1\" class=\"dataframe\">\n",
       "  <thead>\n",
       "    <tr style=\"text-align: right;\">\n",
       "      <th></th>\n",
       "      <th>Variant</th>\n",
       "      <th>Number of page views</th>\n",
       "      <th>GMV (in $)</th>\n",
       "      <th>Number of add to cart</th>\n",
       "      <th>Clicks on media</th>\n",
       "      <th>Time on Page (sec)</th>\n",
       "      <th>user_id</th>\n",
       "      <th>Conversion</th>\n",
       "    </tr>\n",
       "  </thead>\n",
       "  <tbody>\n",
       "    <tr>\n",
       "      <th>0</th>\n",
       "      <td>A</td>\n",
       "      <td>5</td>\n",
       "      <td>0.0</td>\n",
       "      <td>0</td>\n",
       "      <td>2</td>\n",
       "      <td>74</td>\n",
       "      <td>0</td>\n",
       "      <td>0</td>\n",
       "    </tr>\n",
       "    <tr>\n",
       "      <th>1</th>\n",
       "      <td>A</td>\n",
       "      <td>4</td>\n",
       "      <td>0.0</td>\n",
       "      <td>4</td>\n",
       "      <td>1</td>\n",
       "      <td>21</td>\n",
       "      <td>1</td>\n",
       "      <td>0</td>\n",
       "    </tr>\n",
       "    <tr>\n",
       "      <th>2</th>\n",
       "      <td>A</td>\n",
       "      <td>4</td>\n",
       "      <td>0.0</td>\n",
       "      <td>2</td>\n",
       "      <td>0</td>\n",
       "      <td>1</td>\n",
       "      <td>2</td>\n",
       "      <td>0</td>\n",
       "    </tr>\n",
       "    <tr>\n",
       "      <th>3</th>\n",
       "      <td>A</td>\n",
       "      <td>5</td>\n",
       "      <td>0.0</td>\n",
       "      <td>0</td>\n",
       "      <td>1</td>\n",
       "      <td>26</td>\n",
       "      <td>3</td>\n",
       "      <td>0</td>\n",
       "    </tr>\n",
       "    <tr>\n",
       "      <th>4</th>\n",
       "      <td>A</td>\n",
       "      <td>5</td>\n",
       "      <td>0.0</td>\n",
       "      <td>3</td>\n",
       "      <td>3</td>\n",
       "      <td>46</td>\n",
       "      <td>4</td>\n",
       "      <td>0</td>\n",
       "    </tr>\n",
       "  </tbody>\n",
       "</table>\n",
       "</div>"
      ],
      "text/plain": [
       "  Variant  Number of page views  GMV (in $)  Number of add to cart  \\\n",
       "0       A                     5         0.0                      0   \n",
       "1       A                     4         0.0                      4   \n",
       "2       A                     4         0.0                      2   \n",
       "3       A                     5         0.0                      0   \n",
       "4       A                     5         0.0                      3   \n",
       "\n",
       "   Clicks on media  Time on Page (sec)  user_id  Conversion  \n",
       "0                2                  74        0           0  \n",
       "1                1                  21        1           0  \n",
       "2                0                   1        2           0  \n",
       "3                1                  26        3           0  \n",
       "4                3                  46        4           0  "
      ]
     },
     "execution_count": 11,
     "metadata": {},
     "output_type": "execute_result"
    }
   ],
   "source": [
    "variant_A.loc[:, \"Conversion\"] = np.where(variant_A[\"GMV (in $)\"] > 0, 1, 0)\n",
    "variant_B.loc[:, \"Conversion\"] = np.where(variant_B[\"GMV (in $)\"] > 0, 1, 0)\n",
    "variant_A.head(5)"
   ]
  },
  {
   "cell_type": "code",
   "execution_count": 7,
   "id": "196f6dbb-c79f-41da-8f31-96dc2c48421c",
   "metadata": {
    "tags": []
   },
   "outputs": [
    {
     "name": "stdout",
     "output_type": "stream",
     "text": [
      "Conversion Rate per Variant:\n",
      "Variant A conversions: 0.08\n",
      "Variant B conversions: 0.097\n"
     ]
    }
   ],
   "source": [
    "conversion_rate_A = variant_A[\"Conversion\"].mean()\n",
    "conversion_rate_B = variant_B[\"Conversion\"].mean()\n",
    "\n",
    "print(\"Conversion Rate per Variant:\")\n",
    "print(\"Variant A conversions:\", conversion_rate_A)\n",
    "print(\"Variant B conversions:\", conversion_rate_B)"
   ]
  },
  {
   "cell_type": "code",
   "execution_count": 9,
   "id": "19169103-4b7b-4d54-89ec-d5dfcda3e516",
   "metadata": {
    "tags": []
   },
   "outputs": [
    {
     "data": {
      "image/png": "[encoded data removed]",
      "text/plain": [
       "<Figure size 640x480 with 1 Axes>"
      ]
     },
     "metadata": {},
     "output_type": "display_data"
    }
   ],
   "source": [
    "sample_size_A = len(variant_A)\n",
    "sample_size_B = len(variant_B)\n",
    "\n",
    "x_A = np.arange(0, sample_size_A+1)\n",
    "pmf_A = binom.pmf(x_A, sample_size_A, conversion_rate_A)\n",
    "\n",
    "x_B = np.arange(0, sample_size_B+1)\n",
    "pmf_B = binom.pmf(x_B, sample_size_B, conversion_rate_B)\n",
    "\n",
    "plt.bar(x_A, pmf_A, alpha=0.5, label='Variant A', color='blue')\n",
    "plt.bar(x_B, pmf_B, alpha=0.5, label='Variant B', color='orange')\n",
    "plt.xlabel('Conversion')\n",
    "plt.ylabel('Probability')\n",
    "plt.title('Distribution of Conversion Rates')\n",
    "\n",
    "plt.xlim(0, 200)\n",
    "plt.legend()\n",
    "\n",
    "plt.show()"
   ]
  },
  {
   "cell_type": "code",
   "execution_count": 64,
   "id": "8dc53964-3817-4595-aeea-f6be29646787",
   "metadata": {
    "tags": []
   },
   "outputs": [
    {
     "data": {
      "text/plain": [
       "TtestResult(statistic=-1.3383240139279355, pvalue=0.18094426040762615, df=1983.059959332643)"
      ]
     },
     "execution_count": 64,
     "metadata": {},
     "output_type": "execute_result"
    }
   ],
   "source": [
    "stats.ttest_ind(variant_A[\"Conversion\"], variant_B[\"Conversion\"], equal_var = False)"
   ]
  },
  {
   "cell_type": "markdown",
   "id": "0864dab9-06db-4517-972d-0f8ccf05e6f5",
   "metadata": {
    "tags": []
   },
   "source": [
    "The p-value is greater than the chosen significance level of 0.05. This means, we do not have reason to doubt the null hypothesis. We fail to reject the null hypotesis for the primary metric **Conversion Rate** and this test does *not* show a stastical significant difference. "
   ]
  },
  {
   "cell_type": "markdown",
   "id": "a1d0d1ce-c426-4e59-a8c5-79a261d462f8",
   "metadata": {},
   "source": [
    "#### Secondary Metric I: Number of Add To Carts"
   ]
  },
  {
   "cell_type": "code",
   "execution_count": 93,
   "id": "d9f17072-a83f-4342-8aa6-56b10b956c59",
   "metadata": {
    "tags": []
   },
   "outputs": [
    {
     "data": {
      "image/png": "[encoded data removed]",
      "text/plain": [
       "<Figure size 640x480 with 1 Axes>"
      ]
     },
     "metadata": {},
     "output_type": "display_data"
    }
   ],
   "source": [
    "plt.hist(variant_A['Number of add to cart'], bins=20, alpha=0.5, label='Variant A', color='blue')\n",
    "plt.hist(variant_B['Number of add to cart'], bins=20, alpha=0.5, label='Variant B', color='orange')\n",
    "\n",
    "plt.xlabel('Number of add to cart')\n",
    "plt.ylabel('Frequency')\n",
    "plt.title('Distribution of Number of add to cart')\n",
    "plt.legend()\n",
    "\n",
    "plt.show()"
   ]
  },
  {
   "cell_type": "code",
   "execution_count": 73,
   "id": "629f707d-9aad-479c-be41-ce5c27ea5599",
   "metadata": {
    "tags": []
   },
   "outputs": [
    {
     "name": "stdout",
     "output_type": "stream",
     "text": [
      "Number of Add to Cart Means:\n",
      "Variant A Add to Carts: 1.884\n",
      "Variant B Add to Carts: 2.469\n"
     ]
    }
   ],
   "source": [
    "ATC_mean_A = variant_A[\"Number of add to cart\"].mean()\n",
    "ATC_mean_B = variant_B[\"Number of add to cart\"].mean()\n",
    "\n",
    "print(\"Number of Add to Cart Means:\")\n",
    "print(\"Variant A Add to Carts:\", ATC_mean_A)\n",
    "print(\"Variant B Add to Carts:\", ATC_mean_B)"
   ]
  },
  {
   "cell_type": "code",
   "execution_count": 74,
   "id": "d7961e57-0d8a-4807-b456-97bbc3214dd0",
   "metadata": {
    "tags": []
   },
   "outputs": [
    {
     "data": {
      "text/plain": [
       "TtestResult(statistic=-8.777389396187948, pvalue=3.668898697938531e-18, df=1887.734779232999)"
      ]
     },
     "execution_count": 74,
     "metadata": {},
     "output_type": "execute_result"
    }
   ],
   "source": [
    "stats.ttest_ind(variant_A[\"Number of add to cart\"], variant_B[\"Number of add to cart\"], equal_var = False)"
   ]
  },
  {
   "cell_type": "markdown",
   "id": "9ea184ad-f87e-402a-8405-56782d2070af",
   "metadata": {},
   "source": [
    "The p-value is smaller than the chosen significance level of 0.05. This means, we reject the null hypothesis for the metric **Number of Add to Carts**. The test shows that the difference is statistically significant. "
   ]
  },
  {
   "cell_type": "markdown",
   "id": "054cdccb-1caf-4d47-b431-d70ad98e2c53",
   "metadata": {},
   "source": [
    "#### Secondary Metric II: Clicks on Media"
   ]
  },
  {
   "cell_type": "code",
   "execution_count": 95,
   "id": "11e3437c-0e0a-4bd8-9e0a-7be29d90fd6a",
   "metadata": {
    "tags": []
   },
   "outputs": [
    {
     "data": {
      "image/png": "[encoded data removed]",
      "text/plain": [
       "<Figure size 640x480 with 1 Axes>"
      ]
     },
     "metadata": {},
     "output_type": "display_data"
    }
   ],
   "source": [
    "plt.hist(variant_A[\"Clicks on media\"], bins=20, alpha=0.5, label=\"Variant A\", color='blue')\n",
    "plt.hist(variant_B[\"Clicks on media\"], bins=20, alpha=0.5, label=\"Variant B\", color='orange')\n",
    "\n",
    "plt.xlabel(\"Clicks on Media\")\n",
    "plt.ylabel(\"Frequency\")\n",
    "plt.title(\"Distribution of Clicks on Media\")\n",
    "plt.legend()\n",
    "\n",
    "plt.show()"
   ]
  },
  {
   "cell_type": "code",
   "execution_count": 77,
   "id": "cddb2e86-7aef-4891-8881-a32d4a8ef572",
   "metadata": {
    "tags": []
   },
   "outputs": [
    {
     "name": "stdout",
     "output_type": "stream",
     "text": [
      "Clicks on media Means:\n",
      "Variant A Clicks on media: 1.495\n",
      "Variant B Clicks on media: 1.324\n"
     ]
    }
   ],
   "source": [
    "COM_mean_A = variant_A[\"Clicks on media\"].mean()\n",
    "COM_mean_B = variant_B[\"Clicks on media\"].mean()\n",
    "\n",
    "print(\"Clicks on media Means:\")\n",
    "print(\"Variant A Clicks on media:\", COM_mean_A)\n",
    "print(\"Variant B Clicks on media:\", COM_mean_B)"
   ]
  },
  {
   "cell_type": "code",
   "execution_count": 100,
   "id": "28000165-b90c-4de4-8f36-326bb2c60640",
   "metadata": {
    "tags": []
   },
   "outputs": [
    {
     "data": {
      "text/plain": [
       "TtestResult(statistic=3.1710702328903153, pvalue=0.001541857715988478, df=1994.655646693956)"
      ]
     },
     "execution_count": 100,
     "metadata": {},
     "output_type": "execute_result"
    }
   ],
   "source": [
    "stats.ttest_ind(variant_A[\"Clicks on media\"], variant_B[\"Clicks on media\"], equal_var = False)"
   ]
  },
  {
   "cell_type": "markdown",
   "id": "36875ab7-2ff6-4a1a-8dd3-6d6edcba951e",
   "metadata": {},
   "source": [
    "The p-value is smaller than the chosen significance level of 0.05. This means, we reject the null hypothesis for the metric **Clicks on Media**. The test shows that the difference is statistically significant. "
   ]
  },
  {
   "cell_type": "markdown",
   "id": "70c5fe72-7e6f-49a1-bd69-f7b65efd9d6e",
   "metadata": {},
   "source": [
    "#### Secondary Metric III: Time on Page"
   ]
  },
  {
   "cell_type": "code",
   "execution_count": 94,
   "id": "3fa68e68-da79-4649-9a76-ebae26dc3a51",
   "metadata": {
    "tags": []
   },
   "outputs": [
    {
     "data": {
      "image/png": "[encoded data removed]",
      "text/plain": [
       "<Figure size 640x480 with 1 Axes>"
      ]
     },
     "metadata": {},
     "output_type": "display_data"
    }
   ],
   "source": [
    "plt.hist(variant_A[\"Time on Page (sec)\"], bins=50, alpha=0.5, label=\"Variant A\", color='blue')\n",
    "plt.hist(variant_B[\"Time on Page (sec)\"], bins=50, alpha=0.5, label=\"Variant B\", color='orange')\n",
    "\n",
    "plt.xlabel(\"Time on Page (sec)\")\n",
    "plt.ylabel(\"Frequency\")\n",
    "plt.title(\"Distribution of Time on Page (sec)\")\n",
    "plt.legend()\n",
    "\n",
    "plt.show()"
   ]
  },
  {
   "cell_type": "code",
   "execution_count": 84,
   "id": "70997767-e2e4-4960-b786-23f3d4e1df8a",
   "metadata": {
    "tags": []
   },
   "outputs": [
    {
     "name": "stdout",
     "output_type": "stream",
     "text": [
      "Time on Page (sec) Means:\n",
      "Variant A Time on Page (sec): 20.543\n",
      "Variant B Time on Page (sec): 20.047\n"
     ]
    }
   ],
   "source": [
    "TOP_mean_A = variant_A[\"Time on Page (sec)\"].mean()\n",
    "TOP_mean_B = variant_B[\"Time on Page (sec)\"].mean()\n",
    "\n",
    "print(\"Time on Page (sec) Means:\")\n",
    "print(\"Variant A Time on Page (sec):\", TOP_mean_A)\n",
    "print(\"Variant B Time on Page (sec):\", TOP_mean_B)"
   ]
  },
  {
   "cell_type": "code",
   "execution_count": 86,
   "id": "4f62fb26-365f-4a8f-8d15-9c094cca3fef",
   "metadata": {
    "tags": []
   },
   "outputs": [
    {
     "data": {
      "text/plain": [
       "TtestResult(statistic=0.5554299489081426, pvalue=0.5786630478332149, df=1989.8790205360176)"
      ]
     },
     "execution_count": 86,
     "metadata": {},
     "output_type": "execute_result"
    }
   ],
   "source": [
    "stats.ttest_ind(variant_A[\"Time on Page (sec)\"], variant_B[\"Time on Page (sec)\"], equal_var = False)"
   ]
  },
  {
   "cell_type": "markdown",
   "id": "94a8e381-a5a8-45d3-9aab-2ca85cd89d37",
   "metadata": {},
   "source": [
    "The p-value is greater than the chosen significance level of 0.05. This means, we do not have reason to doubt the null hypothesis for the metric **Time on Page**. We fail to reject the null hypothesis and this test does not show a statistical significant difference. "
   ]
  },
  {
   "cell_type": "code",
   "execution_count": null,
   "id": "492d8af7-79cb-4db2-90b7-0cb4b965ab14",
   "metadata": {},
   "outputs": [],
   "source": []
  }
 ],
 "metadata": {
  "kernelspec": {
   "display_name": "Python 3 (ipykernel)",
   "language": "python",
   "name": "python3"
  },
  "language_info": {
   "codemirror_mode": {
    "name": "ipython",
    "version": 3
   },
   "file_extension": ".py",
   "mimetype": "text/x-python",
   "name": "python",
   "nbconvert_exporter": "python",
   "pygments_lexer": "ipython3",
   "version": "3.11.5"
  }
 },
 "nbformat": 4,
 "nbformat_minor": 5
}
